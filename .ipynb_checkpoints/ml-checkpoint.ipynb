{
 "cells": [
  {
   "cell_type": "code",
   "execution_count": 4,
   "id": "863f136f",
   "metadata": {},
   "outputs": [],
   "source": [
    "import FinanceDataReader as fdr\n",
    "from datetime import datetime, timedelta\n",
    "import pandas as pd\n",
    "from ta.volatility import BollingerBands\n",
    "from ta.momentum import StochRSIIndicator\n",
    "from ta.trend import MACD\n",
    "from tqdm import tqdm\n",
    "from gensim.models import Word2Vec\n",
    "from itertools import combinations\n",
    "from prophet import Prophet"
   ]
  },
  {
   "cell_type": "code",
   "execution_count": 35,
   "id": "ea2123b6",
   "metadata": {},
   "outputs": [
    {
     "data": {
      "text/plain": [
       "'2024-01-11'"
      ]
     },
     "execution_count": 35,
     "metadata": {},
     "output_type": "execute_result"
    }
   ],
   "source": [
    "datetime.today().strftime('%Y-%m-%d')"
   ]
  },
  {
   "cell_type": "code",
   "execution_count": 28,
   "id": "72a7a27a",
   "metadata": {},
   "outputs": [],
   "source": [
    "def get_us_code(x):\n",
    "    # x:0 미국이 주말이 아닐 때, x:1 전날이 미국이 주말일 때\n",
    "    if x == 0:\n",
    "        # 오늘 날짜\n",
    "        oneday = datetime.today().strftime('%Y-%m-%d')\n",
    "        # 이틀 전 날짜\n",
    "        twoday = (datetime.today() - timedelta(days=2)).strftime('%Y-%m-%d')\n",
    "    elif x == 1:\n",
    "        # 오늘 날짜\n",
    "        oneday = (datetime.today() - timedelta(days=4)).strftime('%Y-%m-%d')\n",
    "        # 이틀 전 날짜\n",
    "        twoday = (datetime.today() - timedelta(days=6)).strftime('%Y-%m-%d')\n",
    "    \n",
    "    oneday = datetime.today().strftime('%Y-%m-%d')\n",
    "    # 이틀 전 날짜\n",
    "    twoday = (datetime.today() - timedelta(days=2)).strftime('%Y-%m-%d')\n",
    "    \n",
    "    df_NASDAQ = fdr.StockListing('NASDAQ')[:40]\n",
    "    \n",
    "    # df_US_IT = df_NASDAQ[df_NASDAQ['Industry'] == '소프트웨어'].reset_index(drop=True)\n",
    "    \n",
    "    codes = []\n",
    "    top_percentile = 5  # 양수의 변동률 중에서 상위 몇 퍼센트를 가져올지 설정\n",
    "    \n",
    "    for idx, row in df_NASDAQ.iterrows():\n",
    "        code = row['Symbol']\n",
    "        name = row['Name']\n",
    "        # 한국 시장이 열리기 바로 전 미국시장 주가 데이터 수집\n",
    "        try:\n",
    "            price = fdr.DataReader(code, start=twoday, end=oneday)['Close']\n",
    "            pct_change = (price.pct_change() * 100)[-1]  # pct_change 계산\n",
    "            print(f\"{code}, {name}: {pct_change:.2f}%\")\n",
    "            codes.append((code, pct_change))    \n",
    "\n",
    "        except:\n",
    "            pass\n",
    "    \n",
    "    codes.sort(key=lambda x: x[1], reverse=True)\n",
    "    num_codes = int(len(codes) * top_percentile / 100)\n",
    "    \n",
    "    top_codes = codes[:num_codes]\n",
    "    top_codes = [code for code, _ in top_codes]\n",
    "\n",
    "    return top_codes, oneday, twoday\n",
    "\n",
    "def make_us_kr_set(codes):\n",
    "    print(\"한국종목과 데이터 셋을 만들고 있습니다.\")\n",
    "\n",
    "    # 가져오는 데이터는 18년1월1일로 설정\n",
    "    start_date = '2018-01-01'\n",
    "    end_date = today\n",
    "    df_ksq = fdr.StockListing('KOSDAQ')[:40]\n",
    "\n",
    "    # 미국 종목 데이터 가져오기\n",
    "    codes_data = [fdr.DataReader(code, start_date, end_date)['Close'].rename(str(code + '_U'))\n",
    "                  for code in codes]\n",
    "    # 한국 종목 데이터 가져오기\n",
    "    ksq_data = [fdr.DataReader(code, start_date, end_date)['Close'].rename(str(code + '_K'))\n",
    "                for code in df_ksq['Code']]\n",
    "\n",
    "    df = pd.concat(codes_data + ksq_data, axis=1, sort=True)\n",
    "    df.index.name = 'Date'\n",
    "    # 결측치를 중간값으로 채우기\n",
    "    df.fillna(df.median(), inplace=True)\n",
    "    return df\n",
    "\n",
    "def get_high_correlations(x, threshold_low=0, threshold_high=1):\n",
    "    # 최소 상관계수 0, 최대 상관계수 1로 설정\n",
    "    print('피어슨 상관관계 분석: 상위 20개 종목 ')\n",
    "    # 상관관계 계산\n",
    "    corr_matrix = x.corr()\n",
    "    # 상관계수 내림차순 정렬\n",
    "    high_corr_pairs = corr_matrix.unstack().sort_values(ascending=False)\n",
    "    # 중복 주식 쌍 필터\n",
    "    high_corr_pairs = high_corr_pairs[\n",
    "        high_corr_pairs.index.get_level_values(0) < high_corr_pairs.index.get_level_values(1)]\n",
    "    # 상관계수 범위 값 내 쌍들만 저장\n",
    "    high_corr_pairs = high_corr_pairs[\n",
    "        (high_corr_pairs >= threshold_low) & (high_corr_pairs <= threshold_high)].reset_index()\n",
    "    # 컬러명 설정\n",
    "    high_corr_pairs.columns = ['Company 1', 'Company 2', 'Correlation']\n",
    "\n",
    "    # 상관계수 상위 20개 종목 추출\n",
    "    high_corr_pairs = high_corr_pairs[\n",
    "                          high_corr_pairs['Company 1'].str.contains('_K') & high_corr_pairs['Company 2'].str.contains(\n",
    "                              '_U')][:20]\n",
    "    # 한국주식만 추출\n",
    "    high_corr_pairs['Company 1'] = high_corr_pairs['Company 1'].str.extract('(\\d+)')\n",
    "    high_corr_pairs = high_corr_pairs.reset_index(drop=True)\n",
    "\n",
    "    return high_corr_pairs['Company 1'].tolist()\n",
    "\n",
    "\n",
    "def prophetmodel(x):\n",
    "    yesterday = (datetime.today() - timedelta(days=1)).strftime('%Y-%m-%d')\n",
    "\n",
    "    kr_list=[] # 빈 리스트\n",
    "\n",
    "    for kr in x:\n",
    "        # 모델생성\n",
    "        prophet=Prophet(\n",
    "            growth='logistic',\n",
    "            changepoint_range=0.7,# 변동이 발생하는 비율 (높을수록 변동 발생 비율을 높다고 판단->과적합 우려)\n",
    "            changepoint_prior_scale=0.7, # 변동 발생 민감도(높을수록 변동 발생을 민감하게 잡아냄 ->역시 과적합 우려)\n",
    "            interval_width=0.95, # 신뢰구간\n",
    "            daily_seasonality=8,\n",
    "            yearly_seasonality=12)\n",
    "\n",
    "        # 데이터 받아오기\n",
    "        df = fdr.DataReader(symbol=kr, start='2018',end=yesterday)\n",
    "\n",
    "        # 데이터프레임 내의 날짜, 종가 열명을 변경\n",
    "        prophet_series=pd.DataFrame(list(zip(df.index,df['Close'])),columns=['ds','y'])\n",
    "\n",
    "        # 모델의 상한, 하한 설정\n",
    "        prophet_series['cap']=prophet_series['y'].max() # 종가 데이터의 최대값을 상한선으로 지정\n",
    "        prophet_series['floor']=prophet_series['y'].min() # 종가 데이터의 최소값을 하한선으로 지정\n",
    "\n",
    "        # 학습\n",
    "        prophet.fit(prophet_series)\n",
    "\n",
    "        # 받아온 데이터로 예측\n",
    "        forecast=prophet.predict(prophet_series)\n",
    "\n",
    "        # 미래 예측(날짜 데이터 생성)\n",
    "        future=prophet.make_future_dataframe(periods=1, freq='d')  # 1일 후의 종가 데이터 예측\n",
    "\n",
    "        future['cap']=prophet_series['y'].max() *1.1\n",
    "        future['floor']=prophet_series['y'].min() *0.9\n",
    "\n",
    "        # 종가가 상승한 주식은 리스트에 추가\n",
    "        if forecast['trend'].iloc[-1]>forecast['trend'].iloc[-2]: # 예측 전날 데이터가 예측 당일 데이터보다 종가가 큰 경우 리스트에 추가\n",
    "            kr_list.append(kr)\n",
    "\n",
    "    return kr_list"
   ]
  },
  {
   "cell_type": "code",
   "execution_count": 29,
   "id": "52f9df17",
   "metadata": {},
   "outputs": [],
   "source": [
    "def signal(kospi_list):\n",
    "    buys = {}\t    # 매수 종목 저장\n",
    "    returns = {}\t# 각 종목 수익률 저장\n",
    "\n",
    "    for ticker in kospi_list:\t\t# KOSPI 종목 수집\n",
    "        if len(ticker) != 6:\n",
    "            continue\n",
    "        df = fdr.DataReader(ticker, '2018-01-01', today)\n",
    "\n",
    "        # 종가 기준 Bollinger Band 지표 계산(20일 이동평균, 20일 동안의 주가 표준편차 값*2)\n",
    "        bb = BollingerBands(close=df['Close'], window=20, window_dev=2)\n",
    "        df['bb_high'] = bb.bollinger_hband()\n",
    "        df['bb_low'] = bb.bollinger_lband()\n",
    "        middle_bb = (df['High'] + df['Low'] + df['Close']) / 3\n",
    "        middle_bb = middle_bb.rolling(window=20).mean()\n",
    "        bb_width = (df['bb_high'] - df['bb_low']) / middle_bb * 100\n",
    "\n",
    "        # 종가 기준 스토캐스틱 RSI 지표 계산(14일 이동평균, smooth값은 지표의 부드러운 정도)\n",
    "        srsi = StochRSIIndicator(close=df['Close'], window=14, smooth1=3, smooth2=3)\n",
    "        df['%K'] = srsi.stochrsi()\n",
    "\n",
    "        # 종가 기준 MACD 지표 계산(장기이동평균=26일, 단기이동평균=12일, MACD 9일 단순이동평균)\n",
    "        macd = MACD(close=df['Close'], window_slow=26, window_fast=12, window_sign=9)\n",
    "        macd_values = macd.macd()\n",
    "        macd_signal = macd.macd_signal()\n",
    "        macd_diff = macd_values - macd_signal\n",
    "\n",
    "        # SRSI 20일로 설정\n",
    "        n_days = 20\n",
    "\n",
    "        # Bollinget Band, SRSI(%K) 지표 설정 수치에 맞춰 매수 신호 알림\n",
    "        if bb_width.iloc[-1] >= 5 and df['%K'].iloc[-1] <= 0.25:   # 2달 전 한 달 동안의 RSI 지표 추출\n",
    "            prev_month_rsi = df['%K'].iloc[-n_days:-n_days // 2]\n",
    "            prev_month_rsi_mean = prev_month_rsi.mean()\n",
    "            if prev_month_rsi_mean <= 0.25 and df['%K'].iloc[-n_days // 2] >= 0.25:   # 한 달 전의 RSI 지표 확인\n",
    "                if macd_diff.iloc[-1] > macd_signal.iloc[-1]:\n",
    "                    buys[ticker] = df['Close'].iloc[-1]\n",
    "                    returns[ticker] = 0.0\n",
    "                    print(f\"{ticker}: 매수\")\n",
    "                else:\n",
    "                    print(f\"{ticker}: RSI 충족 BUT MACD 미충족\")\n",
    "            else:\n",
    "                print(f\"{ticker}: RSI 미충족\")\n",
    "        else:\n",
    "            print(f\"{ticker}: 매수 위험\")"
   ]
  },
  {
   "cell_type": "code",
   "execution_count": 19,
   "id": "b946db8d",
   "metadata": {},
   "outputs": [
    {
     "name": "stderr",
     "output_type": "stream",
     "text": [
      "100%|██████████| 3879/3879 [00:09<00:00, 412.97it/s]\n"
     ]
    },
    {
     "name": "stdout",
     "output_type": "stream",
     "text": [
      "AAPL, Apple Inc: 0.57%\n",
      "MSFT, Microsoft Corp: 1.86%\n",
      "AMZN, Amazon.com Inc: 1.56%\n",
      "NVDA, NVIDIA Corp: 2.28%\n",
      "GOOGL, Alphabet Inc Class A: 0.94%\n",
      "META, Meta Platforms Inc: 3.65%\n",
      "GOOG, Alphabet Inc Class C: 0.87%\n",
      "TSLA, Tesla Inc: -0.43%\n",
      "AVGO, Broadcom Inc: -0.18%\n",
      "COST, Costco Wholesale Corp: 0.84%\n",
      "ASML, ASML Holding NV ADR: 0.26%\n",
      "ADBE, Adobe Inc: 0.82%\n",
      "AMD, Advanced Micro Devices Inc: -0.48%\n",
      "PEP, PepsiCo Inc: -0.15%\n",
      "AZN, AstraZeneca PLC ADR: 0.96%\n",
      "NFLX, Netflix Inc: -0.78%\n",
      "CSCO, Cisco Systems Inc: 0.66%\n",
      "INTC, Intel Corp: -1.21%\n",
      "PDD, PDD Holdings Inc ADR: -0.86%\n",
      "LIN, Linde PLC: -0.20%\n",
      "TMUS, T-Mobile US Inc: 0.06%\n",
      "CMCSA, Comcast Corp: 0.46%\n",
      "INTU, Intuit Inc: 0.58%\n",
      "AMGN, Amgen Inc: -0.88%\n",
      "QCOM, Qualcomm Inc: -0.41%\n",
      "TXN, Texas Instruments Inc: -0.82%\n",
      "HON, Honeywell International Inc: 0.38%\n",
      "SNY, Sanofi SA ADR: 1.26%\n",
      "AMAT, Applied Materials Inc: -0.81%\n",
      "BKNG, Booking Holdings Inc: 0.91%\n",
      "ISRG, Intuitive Surgical Inc: 10.25%\n",
      "VRTX, Vertex Pharmaceuticals Inc: 0.65%\n",
      "GILD, Gilead Sciences Inc: -1.81%\n",
      "SBUX, Starbucks Corp: 0.44%\n",
      "MDLZ, Mondelez International Inc: -0.90%\n",
      "LRCX, Lam Research Corp: -0.31%\n",
      "REGN, Regeneron Pharmaceuticals Inc: 0.38%\n",
      "ADP, Automatic Data Processing Inc: 0.03%\n",
      "PANW, Palo Alto Networks Inc: 5.22%\n",
      "ADI, Analog Devices Inc: -0.73%\n"
     ]
    }
   ],
   "source": [
    "codes, today = get_us_code(0)"
   ]
  },
  {
   "cell_type": "code",
   "execution_count": 20,
   "id": "5d76bbca",
   "metadata": {},
   "outputs": [
    {
     "name": "stdout",
     "output_type": "stream",
     "text": [
      "한국종목과 데이터 셋을 만들고 있습니다.\n"
     ]
    }
   ],
   "source": [
    "df = make_us_kr_set(codes)"
   ]
  },
  {
   "cell_type": "code",
   "execution_count": 30,
   "id": "b8e00b22",
   "metadata": {
    "scrolled": true
   },
   "outputs": [
    {
     "name": "stdout",
     "output_type": "stream",
     "text": [
      "피어슨 상관관계 분석: 상위 20개 종목 \n"
     ]
    }
   ],
   "source": [
    "corr = get_high_correlations(df)"
   ]
  },
  {
   "cell_type": "code",
   "execution_count": null,
   "id": "c7832063",
   "metadata": {},
   "outputs": [],
   "source": [
    "df_prophet = prophetmodel(corr)"
   ]
  },
  {
   "cell_type": "code",
   "execution_count": 167,
   "id": "1d302670",
   "metadata": {},
   "outputs": [
    {
     "name": "stderr",
     "output_type": "stream",
     "text": [
      "05:16:09 - cmdstanpy - INFO - Chain [1] start processing\n",
      "05:16:11 - cmdstanpy - INFO - Chain [1] done processing\n",
      "05:16:12 - cmdstanpy - INFO - Chain [1] start processing\n",
      "05:16:13 - cmdstanpy - INFO - Chain [1] done processing\n",
      "05:16:14 - cmdstanpy - INFO - Chain [1] start processing\n",
      "05:16:16 - cmdstanpy - INFO - Chain [1] done processing\n",
      "05:16:16 - cmdstanpy - INFO - Chain [1] start processing\n",
      "05:16:18 - cmdstanpy - INFO - Chain [1] done processing\n",
      "05:16:19 - cmdstanpy - INFO - Chain [1] start processing\n",
      "05:16:20 - cmdstanpy - INFO - Chain [1] done processing\n",
      "05:16:21 - cmdstanpy - INFO - Chain [1] start processing\n",
      "05:16:24 - cmdstanpy - INFO - Chain [1] done processing\n",
      "05:16:25 - cmdstanpy - INFO - Chain [1] start processing\n",
      "05:16:26 - cmdstanpy - INFO - Chain [1] done processing\n",
      "05:16:26 - cmdstanpy - INFO - Chain [1] start processing\n",
      "05:16:27 - cmdstanpy - INFO - Chain [1] done processing\n",
      "05:16:28 - cmdstanpy - INFO - Chain [1] start processing\n",
      "05:16:30 - cmdstanpy - INFO - Chain [1] done processing\n",
      "05:16:30 - cmdstanpy - INFO - Chain [1] start processing\n",
      "05:16:32 - cmdstanpy - INFO - Chain [1] done processing\n",
      "05:16:33 - cmdstanpy - INFO - Chain [1] start processing\n",
      "05:16:34 - cmdstanpy - INFO - Chain [1] done processing\n",
      "05:16:34 - cmdstanpy - INFO - Chain [1] start processing\n",
      "05:16:36 - cmdstanpy - INFO - Chain [1] done processing\n",
      "05:16:36 - cmdstanpy - INFO - Chain [1] start processing\n",
      "05:16:38 - cmdstanpy - INFO - Chain [1] done processing\n",
      "05:16:39 - cmdstanpy - INFO - Chain [1] start processing\n",
      "05:16:40 - cmdstanpy - INFO - Chain [1] done processing\n",
      "05:16:40 - cmdstanpy - INFO - Chain [1] start processing\n",
      "05:16:42 - cmdstanpy - INFO - Chain [1] done processing\n",
      "05:16:43 - cmdstanpy - INFO - Chain [1] start processing\n",
      "05:16:46 - cmdstanpy - INFO - Chain [1] done processing\n",
      "05:16:47 - cmdstanpy - INFO - Chain [1] start processing\n",
      "05:16:48 - cmdstanpy - INFO - Chain [1] done processing\n",
      "05:16:48 - cmdstanpy - INFO - Chain [1] start processing\n",
      "05:16:48 - cmdstanpy - INFO - Chain [1] done processing\n"
     ]
    },
    {
     "name": "stdout",
     "output_type": "stream",
     "text": [
      "['000270', '207940', '000660', '005490', '005930', '005380', '005935', '051910', '005935', '000660', '207940', '005930', '000270', '005380', '051910', '373220']\n"
     ]
    }
   ],
   "source": [
    "print(df_prophet)"
   ]
  }
 ],
 "metadata": {
  "kernelspec": {
   "display_name": "Python 3 (ipykernel)",
   "language": "python",
   "name": "python3"
  },
  "language_info": {
   "codemirror_mode": {
    "name": "ipython",
    "version": 3
   },
   "file_extension": ".py",
   "mimetype": "text/x-python",
   "name": "python",
   "nbconvert_exporter": "python",
   "pygments_lexer": "ipython3",
   "version": "3.9.2"
  }
 },
 "nbformat": 4,
 "nbformat_minor": 5
}
